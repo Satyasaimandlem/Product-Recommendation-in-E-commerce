{
 "cells": [
  {
   "cell_type": "markdown",
   "id": "d81d214e",
   "metadata": {},
   "source": [
    "# Product Recommendation in E-commerce"
   ]
  },
  {
   "cell_type": "markdown",
   "id": "477d81d7",
   "metadata": {},
   "source": [
    "### Business problem: \n",
    "How can an e-commerce platform increase its sales and customer satisfaction by leveraging machine learning techniques?\n",
    "\n",
    "The main goal of the project is to improve the e-commerce platform's sales and customer satisfaction by providing personalized recommendations, offers, and promotions to customers using machine learning techniques. The specific objectives include identifying potential high-value customers, targeting them with personalized offers and recommendations, and providing personalized recommendations and offers to groups of customers with similar needs and preferences.\n",
    "\n",
    "To achieve these goals, the project will leverage the Online Retail II dataset from UCI Machine Learning Repository, which contains transactional data for an online retail company based in the UK over a two-year period. The dataset includes information about the customer, the product, and the transaction itself."
   ]
  },
  {
   "cell_type": "markdown",
   "id": "29c1a8d8",
   "metadata": {},
   "source": [
    "### Data source: \n",
    "The data set used will be the \"Online Retail II\" data set from UCI Machine Learning Repository (https://archive.ics.uci.edu/ml/datasets/Online+Retail+II).\n",
    "\n",
    "The Online Retail II data set contains transactional data for an online retail company based in the UK over a two-year period (from 01/12/2009 to 09/12/2011). The data set contains over 1 million transactions and includes information about the customer, the product, and the transaction itself."
   ]
  },
  {
   "cell_type": "markdown",
   "id": "c49192c2",
   "metadata": {},
   "source": [
    "### Data Set Information:\n",
    "\n",
    "This Online Retail II data set contains all the transactions occurring for a UK-based and registered, non-store online retail between 01/12/2009 and 09/12/2011.The company mainly sells unique all-occasion gift-ware. Many customers of the company are wholesalers.\n",
    "\n",
    "\n",
    "Attribute Information:\n",
    "\n",
    "1. InvoiceNo: Invoice number. Nominal. A 6-digit integral number uniquely assigned to each transaction. If this code starts with the letter 'c', it indicates a cancellation.\n",
    "2. StockCode: Product (item) code. Nominal. A 5-digit integral number uniquely assigned to each distinct product.\n",
    "3. Description: Product (item) name. Nominal.\n",
    "4. Quantity: The quantities of each product (item) per transaction. Numeric.\n",
    "5. InvoiceDate: Invice date and time. Numeric. The day and time when a transaction was generated.\n",
    "6. UnitPrice: Unit price. Numeric. Product price per unit in sterling (Â£).\n",
    "7. CustomerID: Customer number. Nominal. A 5-digit integral number uniquely assigned to each customer.\n",
    "8. Country: Country name. Nominal. The name of the country where a customer resides.\n",
    "\n",
    "Reference:UCI machine learning repository: Online retail II data set. (n.d.). Uci.edu. Retrieved May 12, 2023, from https://archive.ics.uci.edu/ml/datasets/Online+Retail+II"
   ]
  },
  {
   "cell_type": "markdown",
   "id": "a38ac2ea",
   "metadata": {},
   "source": [
    "### Data Exploration:"
   ]
  },
  {
   "cell_type": "code",
   "execution_count": 1,
   "id": "6163c4c2",
   "metadata": {},
   "outputs": [],
   "source": [
    "#First, we import the necessary libraries \n",
    "import pandas as pd\n",
    "import numpy as np\n",
    "import seaborn as sns\n",
    "import matplotlib.pyplot as plt"
   ]
  },
  {
   "cell_type": "markdown",
   "id": "e517bbaa",
   "metadata": {},
   "source": [
    "The dataset is in Excel format with two sheets. The first sheet contains data from 2009 to 2010, while the other sheet has data from 2010 to 2011. I am combining the data from those two sheets into one file in CSV format and loading the data for model building."
   ]
  },
  {
   "cell_type": "code",
   "execution_count": 2,
   "id": "18f28bb1",
   "metadata": {},
   "outputs": [
    {
     "data": {
      "text/html": [
       "<div>\n",
       "<style scoped>\n",
       "    .dataframe tbody tr th:only-of-type {\n",
       "        vertical-align: middle;\n",
       "    }\n",
       "\n",
       "    .dataframe tbody tr th {\n",
       "        vertical-align: top;\n",
       "    }\n",
       "\n",
       "    .dataframe thead th {\n",
       "        text-align: right;\n",
       "    }\n",
       "</style>\n",
       "<table border=\"1\" class=\"dataframe\">\n",
       "  <thead>\n",
       "    <tr style=\"text-align: right;\">\n",
       "      <th></th>\n",
       "      <th>Invoice</th>\n",
       "      <th>StockCode</th>\n",
       "      <th>Description</th>\n",
       "      <th>Quantity</th>\n",
       "      <th>InvoiceDate</th>\n",
       "      <th>Price</th>\n",
       "      <th>Customer ID</th>\n",
       "      <th>Country</th>\n",
       "    </tr>\n",
       "  </thead>\n",
       "  <tbody>\n",
       "    <tr>\n",
       "      <th>0</th>\n",
       "      <td>489434</td>\n",
       "      <td>85048</td>\n",
       "      <td>15CM CHRISTMAS GLASS BALL 20 LIGHTS</td>\n",
       "      <td>12</td>\n",
       "      <td>2009-12-01 07:45:00</td>\n",
       "      <td>6.95</td>\n",
       "      <td>13085.0</td>\n",
       "      <td>United Kingdom</td>\n",
       "    </tr>\n",
       "    <tr>\n",
       "      <th>1</th>\n",
       "      <td>489434</td>\n",
       "      <td>79323P</td>\n",
       "      <td>PINK CHERRY LIGHTS</td>\n",
       "      <td>12</td>\n",
       "      <td>2009-12-01 07:45:00</td>\n",
       "      <td>6.75</td>\n",
       "      <td>13085.0</td>\n",
       "      <td>United Kingdom</td>\n",
       "    </tr>\n",
       "    <tr>\n",
       "      <th>2</th>\n",
       "      <td>489434</td>\n",
       "      <td>79323W</td>\n",
       "      <td>WHITE CHERRY LIGHTS</td>\n",
       "      <td>12</td>\n",
       "      <td>2009-12-01 07:45:00</td>\n",
       "      <td>6.75</td>\n",
       "      <td>13085.0</td>\n",
       "      <td>United Kingdom</td>\n",
       "    </tr>\n",
       "    <tr>\n",
       "      <th>3</th>\n",
       "      <td>489434</td>\n",
       "      <td>22041</td>\n",
       "      <td>RECORD FRAME 7\" SINGLE SIZE</td>\n",
       "      <td>48</td>\n",
       "      <td>2009-12-01 07:45:00</td>\n",
       "      <td>2.10</td>\n",
       "      <td>13085.0</td>\n",
       "      <td>United Kingdom</td>\n",
       "    </tr>\n",
       "    <tr>\n",
       "      <th>4</th>\n",
       "      <td>489434</td>\n",
       "      <td>21232</td>\n",
       "      <td>STRAWBERRY CERAMIC TRINKET BOX</td>\n",
       "      <td>24</td>\n",
       "      <td>2009-12-01 07:45:00</td>\n",
       "      <td>1.25</td>\n",
       "      <td>13085.0</td>\n",
       "      <td>United Kingdom</td>\n",
       "    </tr>\n",
       "  </tbody>\n",
       "</table>\n",
       "</div>"
      ],
      "text/plain": [
       "  Invoice StockCode                          Description  Quantity  \\\n",
       "0  489434     85048  15CM CHRISTMAS GLASS BALL 20 LIGHTS        12   \n",
       "1  489434    79323P                   PINK CHERRY LIGHTS        12   \n",
       "2  489434    79323W                  WHITE CHERRY LIGHTS        12   \n",
       "3  489434     22041         RECORD FRAME 7\" SINGLE SIZE         48   \n",
       "4  489434     21232       STRAWBERRY CERAMIC TRINKET BOX        24   \n",
       "\n",
       "           InvoiceDate  Price  Customer ID         Country  \n",
       "0  2009-12-01 07:45:00   6.95      13085.0  United Kingdom  \n",
       "1  2009-12-01 07:45:00   6.75      13085.0  United Kingdom  \n",
       "2  2009-12-01 07:45:00   6.75      13085.0  United Kingdom  \n",
       "3  2009-12-01 07:45:00   2.10      13085.0  United Kingdom  \n",
       "4  2009-12-01 07:45:00   1.25      13085.0  United Kingdom  "
      ]
     },
     "execution_count": 2,
     "metadata": {},
     "output_type": "execute_result"
    }
   ],
   "source": [
    "# provide the path to the downloaded file\n",
    "file_path = 'C:/Users/Satya/Downloads/data science/602/project/New folder/online_retail_II.xlsx'\n",
    "\n",
    "# read the two sheets into separate dataframes\n",
    "df1 = pd.read_excel(file_path, sheet_name='Year 2009-2010')\n",
    "\n",
    "# read the two sheets into separate dataframes\n",
    "df2 = pd.read_excel(file_path, sheet_name='Year 2010-2011')\n",
    "\n",
    "# combine the two dataframes\n",
    "combined_df = pd.concat([df1, df2])\n",
    "\n",
    "# reset the index of the combined dataframe\n",
    "combined_df = combined_df.reset_index(drop=True)\n",
    "\n",
    "# save the combined dataframe to a new sheet in the same Excel file\n",
    "combined_df.to_csv('example.csv', index=False)\n",
    "\n",
    "df = pd.read_csv('C:/Users/Satya/Downloads/data science/602/project/New folder/example.csv')\n",
    "df.head()\n"
   ]
  },
  {
   "cell_type": "code",
   "execution_count": 3,
   "id": "7662a458",
   "metadata": {},
   "outputs": [
    {
     "data": {
      "text/html": [
       "<div>\n",
       "<style scoped>\n",
       "    .dataframe tbody tr th:only-of-type {\n",
       "        vertical-align: middle;\n",
       "    }\n",
       "\n",
       "    .dataframe tbody tr th {\n",
       "        vertical-align: top;\n",
       "    }\n",
       "\n",
       "    .dataframe thead th {\n",
       "        text-align: right;\n",
       "    }\n",
       "</style>\n",
       "<table border=\"1\" class=\"dataframe\">\n",
       "  <thead>\n",
       "    <tr style=\"text-align: right;\">\n",
       "      <th></th>\n",
       "      <th>Quantity</th>\n",
       "      <th>Price</th>\n",
       "      <th>Customer ID</th>\n",
       "    </tr>\n",
       "  </thead>\n",
       "  <tbody>\n",
       "    <tr>\n",
       "      <th>count</th>\n",
       "      <td>1.067371e+06</td>\n",
       "      <td>1.067371e+06</td>\n",
       "      <td>824364.000000</td>\n",
       "    </tr>\n",
       "    <tr>\n",
       "      <th>mean</th>\n",
       "      <td>9.938898e+00</td>\n",
       "      <td>4.649388e+00</td>\n",
       "      <td>15324.638504</td>\n",
       "    </tr>\n",
       "    <tr>\n",
       "      <th>std</th>\n",
       "      <td>1.727058e+02</td>\n",
       "      <td>1.235531e+02</td>\n",
       "      <td>1697.464450</td>\n",
       "    </tr>\n",
       "    <tr>\n",
       "      <th>min</th>\n",
       "      <td>-8.099500e+04</td>\n",
       "      <td>-5.359436e+04</td>\n",
       "      <td>12346.000000</td>\n",
       "    </tr>\n",
       "    <tr>\n",
       "      <th>25%</th>\n",
       "      <td>1.000000e+00</td>\n",
       "      <td>1.250000e+00</td>\n",
       "      <td>13975.000000</td>\n",
       "    </tr>\n",
       "    <tr>\n",
       "      <th>50%</th>\n",
       "      <td>3.000000e+00</td>\n",
       "      <td>2.100000e+00</td>\n",
       "      <td>15255.000000</td>\n",
       "    </tr>\n",
       "    <tr>\n",
       "      <th>75%</th>\n",
       "      <td>1.000000e+01</td>\n",
       "      <td>4.150000e+00</td>\n",
       "      <td>16797.000000</td>\n",
       "    </tr>\n",
       "    <tr>\n",
       "      <th>max</th>\n",
       "      <td>8.099500e+04</td>\n",
       "      <td>3.897000e+04</td>\n",
       "      <td>18287.000000</td>\n",
       "    </tr>\n",
       "  </tbody>\n",
       "</table>\n",
       "</div>"
      ],
      "text/plain": [
       "           Quantity         Price    Customer ID\n",
       "count  1.067371e+06  1.067371e+06  824364.000000\n",
       "mean   9.938898e+00  4.649388e+00   15324.638504\n",
       "std    1.727058e+02  1.235531e+02    1697.464450\n",
       "min   -8.099500e+04 -5.359436e+04   12346.000000\n",
       "25%    1.000000e+00  1.250000e+00   13975.000000\n",
       "50%    3.000000e+00  2.100000e+00   15255.000000\n",
       "75%    1.000000e+01  4.150000e+00   16797.000000\n",
       "max    8.099500e+04  3.897000e+04   18287.000000"
      ]
     },
     "execution_count": 3,
     "metadata": {},
     "output_type": "execute_result"
    }
   ],
   "source": [
    "df.describe()"
   ]
  },
  {
   "cell_type": "code",
   "execution_count": 4,
   "id": "1fa3497a",
   "metadata": {},
   "outputs": [
    {
     "name": "stdout",
     "output_type": "stream",
     "text": [
      "<class 'pandas.core.frame.DataFrame'>\n",
      "RangeIndex: 1067371 entries, 0 to 1067370\n",
      "Data columns (total 8 columns):\n",
      " #   Column       Non-Null Count    Dtype  \n",
      "---  ------       --------------    -----  \n",
      " 0   Invoice      1067371 non-null  object \n",
      " 1   StockCode    1067371 non-null  object \n",
      " 2   Description  1062989 non-null  object \n",
      " 3   Quantity     1067371 non-null  int64  \n",
      " 4   InvoiceDate  1067371 non-null  object \n",
      " 5   Price        1067371 non-null  float64\n",
      " 6   Customer ID  824364 non-null   float64\n",
      " 7   Country      1067371 non-null  object \n",
      "dtypes: float64(2), int64(1), object(5)\n",
      "memory usage: 65.1+ MB\n"
     ]
    }
   ],
   "source": [
    "df.info()"
   ]
  },
  {
   "cell_type": "code",
   "execution_count": 51,
   "id": "1560bf50",
   "metadata": {},
   "outputs": [
    {
     "data": {
      "text/plain": [
       "Index(['Invoice', 'StockCode', 'Description', 'Quantity', 'InvoiceDate',\n",
       "       'Price', 'Customer ID', 'Country'],\n",
       "      dtype='object')"
      ]
     },
     "execution_count": 51,
     "metadata": {},
     "output_type": "execute_result"
    }
   ],
   "source": [
    "df.columns"
   ]
  },
  {
   "cell_type": "code",
   "execution_count": 5,
   "id": "83fc3851",
   "metadata": {},
   "outputs": [
    {
     "data": {
      "text/plain": [
       "Invoice             0\n",
       "StockCode           0\n",
       "Description      4382\n",
       "Quantity            0\n",
       "InvoiceDate         0\n",
       "Price               0\n",
       "Customer ID    243007\n",
       "Country             0\n",
       "dtype: int64"
      ]
     },
     "execution_count": 5,
     "metadata": {},
     "output_type": "execute_result"
    }
   ],
   "source": [
    "#checking for null values\n",
    "df.isnull().sum()"
   ]
  },
  {
   "cell_type": "code",
   "execution_count": 6,
   "id": "2b4dd66f",
   "metadata": {},
   "outputs": [
    {
     "data": {
      "text/plain": [
       "Invoice        53628\n",
       "StockCode       5305\n",
       "Description     5698\n",
       "Quantity        1057\n",
       "InvoiceDate    47635\n",
       "Price           2807\n",
       "Customer ID     5942\n",
       "Country           43\n",
       "dtype: int64"
      ]
     },
     "execution_count": 6,
     "metadata": {},
     "output_type": "execute_result"
    }
   ],
   "source": [
    "#checking unique values\n",
    "df.nunique()\n"
   ]
  },
  {
   "cell_type": "code",
   "execution_count": 7,
   "id": "c01aa3c5",
   "metadata": {},
   "outputs": [
    {
     "data": {
      "text/plain": [
       "<AxesSubplot:>"
      ]
     },
     "execution_count": 7,
     "metadata": {},
     "output_type": "execute_result"
    },
    {
     "data": {
      "image/png": "[encoded data removed]",
      "text/plain": [
       "<Figure size 432x288 with 1 Axes>"
      ]
     },
     "metadata": {
      "needs_background": "light"
     },
     "output_type": "display_data"
    }
   ],
   "source": [
    "#Checking data distribution and outliers\n",
    "sns.boxplot(data=df)"
   ]
  },
  {
   "cell_type": "code",
   "execution_count": 8,
   "id": "c2c633a4",
   "metadata": {},
   "outputs": [
    {
     "data": {
      "image/png": "[encoded data removed]",
      "text/plain": [
       "<Figure size 432x288 with 2 Axes>"
      ]
     },
     "metadata": {
      "needs_background": "light"
     },
     "output_type": "display_data"
    }
   ],
   "source": [
    "#checking correlation of variables\n",
    "correlation_matrix=df.corr()\n",
    "sns.heatmap(correlation_matrix, annot=True, cmap='YlGnBu')\n",
    "plt.show()"
   ]
  },
  {
   "cell_type": "markdown",
   "id": "23aaebab",
   "metadata": {},
   "source": [
    "### Data Preprossing:"
   ]
  },
  {
   "cell_type": "markdown",
   "id": "64ce6519",
   "metadata": {},
   "source": [
    "#### 1.1Treating Null Values"
   ]
  },
  {
   "cell_type": "code",
   "execution_count": 9,
   "id": "169db855",
   "metadata": {},
   "outputs": [
    {
     "data": {
      "text/plain": [
       "Invoice             0\n",
       "StockCode           0\n",
       "Description      4382\n",
       "Quantity            0\n",
       "InvoiceDate         0\n",
       "Price               0\n",
       "Customer ID    243007\n",
       "Country             0\n",
       "dtype: int64"
      ]
     },
     "execution_count": 9,
     "metadata": {},
     "output_type": "execute_result"
    }
   ],
   "source": [
    "#checking for null values\n",
    "df.isnull().sum()"
   ]
  },
  {
   "cell_type": "markdown",
   "id": "22a8f763",
   "metadata": {},
   "source": [
    "The reason why Customer ID is null could be due to various reasons:\n",
    "\n",
    "1. The customer did not provide their ID during the purchase\n",
    "2. The customer was a guest user and did not have an ID\n",
    "3. The customer ID was not recorded properly during the purchase process\n",
    "4. The data was lost or corrupted during the recording process\n",
    "\n",
    "The absence of customer ID in the data means that the purchases made in those transactions cannot be associated with a specific customer. This can limit the usefulness of the data for predicting customer behavior, as there is no way to distinguish the behavior of different customers or identify patterns unique to certain customers."
   ]
  },
  {
   "cell_type": "code",
   "execution_count": 10,
   "id": "0c4f0cca",
   "metadata": {},
   "outputs": [
    {
     "name": "stdout",
     "output_type": "stream",
     "text": [
      "Invoice         0.000000\n",
      "StockCode       0.000000\n",
      "Description     0.410541\n",
      "Quantity        0.000000\n",
      "InvoiceDate     0.000000\n",
      "Price           0.000000\n",
      "Customer ID    22.766873\n",
      "Country         0.000000\n",
      "dtype: float64\n"
     ]
    }
   ],
   "source": [
    "# Checking for null values and calculating percentage\n",
    "null_percentage = df.isnull().sum() / len(df) * 100\n",
    "print(null_percentage)"
   ]
  },
  {
   "cell_type": "code",
   "execution_count": 11,
   "id": "404eb313",
   "metadata": {},
   "outputs": [],
   "source": [
    "#droping rows with null values in the 'Customer ID' column\n",
    "df.dropna(subset=['Customer ID'], inplace=True)\n"
   ]
  },
  {
   "cell_type": "code",
   "execution_count": 12,
   "id": "96c27acf",
   "metadata": {},
   "outputs": [],
   "source": [
    "#replacing rows with null values in the 'Description' column to \"unknown\"\n",
    "df['Description'] = df['Description'].fillna('unknown')\n"
   ]
  },
  {
   "cell_type": "code",
   "execution_count": 13,
   "id": "db48b7c4",
   "metadata": {},
   "outputs": [
    {
     "data": {
      "text/plain": [
       "Invoice        0\n",
       "StockCode      0\n",
       "Description    0\n",
       "Quantity       0\n",
       "InvoiceDate    0\n",
       "Price          0\n",
       "Customer ID    0\n",
       "Country        0\n",
       "dtype: int64"
      ]
     },
     "execution_count": 13,
     "metadata": {},
     "output_type": "execute_result"
    }
   ],
   "source": [
    "#checking for null values\n",
    "df.isnull().sum()"
   ]
  },
  {
   "cell_type": "markdown",
   "id": "9fa3e770",
   "metadata": {},
   "source": [
    "#### 1.2 Treating Outliers"
   ]
  },
  {
   "cell_type": "code",
   "execution_count": 14,
   "id": "7571ae5c",
   "metadata": {},
   "outputs": [
    {
     "data": {
      "text/plain": [
       "<AxesSubplot:>"
      ]
     },
     "execution_count": 14,
     "metadata": {},
     "output_type": "execute_result"
    },
    {
     "data": {
      "image/png": "[encoded data removed]",
      "text/plain": [
       "<Figure size 432x288 with 1 Axes>"
      ]
     },
     "metadata": {
      "needs_background": "light"
     },
     "output_type": "display_data"
    }
   ],
   "source": [
    "#checking ouliers\n",
    "sns.boxplot(data=df)"
   ]
  },
  {
   "cell_type": "code",
   "execution_count": 15,
   "id": "cf99098a",
   "metadata": {
    "scrolled": true
   },
   "outputs": [
    {
     "data": {
      "image/png": "[encoded data removed]",
      "text/plain": [
       "<Figure size 432x288 with 2 Axes>"
      ]
     },
     "metadata": {
      "needs_background": "light"
     },
     "output_type": "display_data"
    }
   ],
   "source": [
    "#checking correlation\n",
    "correlation_matrix=df.corr()\n",
    "sns.heatmap(correlation_matrix, annot=True, cmap='YlGnBu')\n",
    "plt.show()"
   ]
  },
  {
   "cell_type": "code",
   "execution_count": 16,
   "id": "d42cc3e4",
   "metadata": {},
   "outputs": [
    {
     "data": {
      "text/html": [
       "<div>\n",
       "<style scoped>\n",
       "    .dataframe tbody tr th:only-of-type {\n",
       "        vertical-align: middle;\n",
       "    }\n",
       "\n",
       "    .dataframe tbody tr th {\n",
       "        vertical-align: top;\n",
       "    }\n",
       "\n",
       "    .dataframe thead th {\n",
       "        text-align: right;\n",
       "    }\n",
       "</style>\n",
       "<table border=\"1\" class=\"dataframe\">\n",
       "  <thead>\n",
       "    <tr style=\"text-align: right;\">\n",
       "      <th></th>\n",
       "      <th>Quantity</th>\n",
       "      <th>Price</th>\n",
       "      <th>Customer ID</th>\n",
       "    </tr>\n",
       "  </thead>\n",
       "  <tbody>\n",
       "    <tr>\n",
       "      <th>count</th>\n",
       "      <td>824364.000000</td>\n",
       "      <td>824364.000000</td>\n",
       "      <td>824364.000000</td>\n",
       "    </tr>\n",
       "    <tr>\n",
       "      <th>mean</th>\n",
       "      <td>12.414574</td>\n",
       "      <td>3.676800</td>\n",
       "      <td>15324.638504</td>\n",
       "    </tr>\n",
       "    <tr>\n",
       "      <th>std</th>\n",
       "      <td>188.976099</td>\n",
       "      <td>70.241388</td>\n",
       "      <td>1697.464450</td>\n",
       "    </tr>\n",
       "    <tr>\n",
       "      <th>min</th>\n",
       "      <td>-80995.000000</td>\n",
       "      <td>0.000000</td>\n",
       "      <td>12346.000000</td>\n",
       "    </tr>\n",
       "    <tr>\n",
       "      <th>25%</th>\n",
       "      <td>2.000000</td>\n",
       "      <td>1.250000</td>\n",
       "      <td>13975.000000</td>\n",
       "    </tr>\n",
       "    <tr>\n",
       "      <th>50%</th>\n",
       "      <td>5.000000</td>\n",
       "      <td>1.950000</td>\n",
       "      <td>15255.000000</td>\n",
       "    </tr>\n",
       "    <tr>\n",
       "      <th>75%</th>\n",
       "      <td>12.000000</td>\n",
       "      <td>3.750000</td>\n",
       "      <td>16797.000000</td>\n",
       "    </tr>\n",
       "    <tr>\n",
       "      <th>max</th>\n",
       "      <td>80995.000000</td>\n",
       "      <td>38970.000000</td>\n",
       "      <td>18287.000000</td>\n",
       "    </tr>\n",
       "  </tbody>\n",
       "</table>\n",
       "</div>"
      ],
      "text/plain": [
       "            Quantity          Price    Customer ID\n",
       "count  824364.000000  824364.000000  824364.000000\n",
       "mean       12.414574       3.676800   15324.638504\n",
       "std       188.976099      70.241388    1697.464450\n",
       "min    -80995.000000       0.000000   12346.000000\n",
       "25%         2.000000       1.250000   13975.000000\n",
       "50%         5.000000       1.950000   15255.000000\n",
       "75%        12.000000       3.750000   16797.000000\n",
       "max     80995.000000   38970.000000   18287.000000"
      ]
     },
     "execution_count": 16,
     "metadata": {},
     "output_type": "execute_result"
    }
   ],
   "source": [
    "df.describe()"
   ]
  },
  {
   "cell_type": "code",
   "execution_count": 17,
   "id": "c2994859",
   "metadata": {},
   "outputs": [
    {
     "name": "stdout",
     "output_type": "stream",
     "text": [
      "0.0\n",
      "-80995\n"
     ]
    }
   ],
   "source": [
    "print(df['Price'].min())\n",
    "print(df['Quantity'].min())"
   ]
  },
  {
   "cell_type": "markdown",
   "id": "48830dde",
   "metadata": {},
   "source": [
    "Some values in the 'Quantity' and 'Price' columns are zero and negative, which could indicate errors in data entry or cancellation of orders. Therefore, decided to drop these rows as they do not provide useful information for analysis. \n"
   ]
  },
  {
   "cell_type": "code",
   "execution_count": 18,
   "id": "5d7ebec8",
   "metadata": {},
   "outputs": [
    {
     "name": "stdout",
     "output_type": "stream",
     "text": [
      "Percentage of data with negative or zero values in Quantity column:  2.27\n",
      "Percentage of data with negative or zero values in Price column:  0.01\n"
     ]
    }
   ],
   "source": [
    "# Check percentage of data with negative or zero values in Quantity column\n",
    "neg_qty_perc = np.round((len(df[df['Quantity'] <= 0]) / len(df)) * 100, 2)\n",
    "print(\"Percentage of data with negative or zero values in Quantity column: \", neg_qty_perc)\n",
    "\n",
    "# Check percentage of data with negative or zero values in Price column\n",
    "neg_price_perc = np.round((len(df[df['Price'] <= 0]) / len(df)) * 100, 2)\n",
    "print(\"Percentage of data with negative or zero values in Price column: \", neg_price_perc)\n"
   ]
  },
  {
   "cell_type": "code",
   "execution_count": 19,
   "id": "5e899d6b",
   "metadata": {},
   "outputs": [],
   "source": [
    "#dropping data with negative or zero values in Quantity and Price columns\n",
    "df = df[(df['Quantity']>0) & (df['Price']>0)]\n"
   ]
  },
  {
   "cell_type": "code",
   "execution_count": 20,
   "id": "4b93ae5a",
   "metadata": {},
   "outputs": [
    {
     "data": {
      "text/html": [
       "<div>\n",
       "<style scoped>\n",
       "    .dataframe tbody tr th:only-of-type {\n",
       "        vertical-align: middle;\n",
       "    }\n",
       "\n",
       "    .dataframe tbody tr th {\n",
       "        vertical-align: top;\n",
       "    }\n",
       "\n",
       "    .dataframe thead th {\n",
       "        text-align: right;\n",
       "    }\n",
       "</style>\n",
       "<table border=\"1\" class=\"dataframe\">\n",
       "  <thead>\n",
       "    <tr style=\"text-align: right;\">\n",
       "      <th></th>\n",
       "      <th>Quantity</th>\n",
       "      <th>Price</th>\n",
       "      <th>Customer ID</th>\n",
       "    </tr>\n",
       "  </thead>\n",
       "  <tbody>\n",
       "    <tr>\n",
       "      <th>count</th>\n",
       "      <td>805549.000000</td>\n",
       "      <td>805549.000000</td>\n",
       "      <td>805549.000000</td>\n",
       "    </tr>\n",
       "    <tr>\n",
       "      <th>mean</th>\n",
       "      <td>13.290522</td>\n",
       "      <td>3.206561</td>\n",
       "      <td>15331.954970</td>\n",
       "    </tr>\n",
       "    <tr>\n",
       "      <th>std</th>\n",
       "      <td>143.634088</td>\n",
       "      <td>29.199173</td>\n",
       "      <td>1696.737039</td>\n",
       "    </tr>\n",
       "    <tr>\n",
       "      <th>min</th>\n",
       "      <td>1.000000</td>\n",
       "      <td>0.001000</td>\n",
       "      <td>12346.000000</td>\n",
       "    </tr>\n",
       "    <tr>\n",
       "      <th>25%</th>\n",
       "      <td>2.000000</td>\n",
       "      <td>1.250000</td>\n",
       "      <td>13982.000000</td>\n",
       "    </tr>\n",
       "    <tr>\n",
       "      <th>50%</th>\n",
       "      <td>5.000000</td>\n",
       "      <td>1.950000</td>\n",
       "      <td>15271.000000</td>\n",
       "    </tr>\n",
       "    <tr>\n",
       "      <th>75%</th>\n",
       "      <td>12.000000</td>\n",
       "      <td>3.750000</td>\n",
       "      <td>16805.000000</td>\n",
       "    </tr>\n",
       "    <tr>\n",
       "      <th>max</th>\n",
       "      <td>80995.000000</td>\n",
       "      <td>10953.500000</td>\n",
       "      <td>18287.000000</td>\n",
       "    </tr>\n",
       "  </tbody>\n",
       "</table>\n",
       "</div>"
      ],
      "text/plain": [
       "            Quantity          Price    Customer ID\n",
       "count  805549.000000  805549.000000  805549.000000\n",
       "mean       13.290522       3.206561   15331.954970\n",
       "std       143.634088      29.199173    1696.737039\n",
       "min         1.000000       0.001000   12346.000000\n",
       "25%         2.000000       1.250000   13982.000000\n",
       "50%         5.000000       1.950000   15271.000000\n",
       "75%        12.000000       3.750000   16805.000000\n",
       "max     80995.000000   10953.500000   18287.000000"
      ]
     },
     "execution_count": 20,
     "metadata": {},
     "output_type": "execute_result"
    }
   ],
   "source": [
    "df.describe()"
   ]
  },
  {
   "cell_type": "code",
   "execution_count": 21,
   "id": "9af2fafe",
   "metadata": {},
   "outputs": [
    {
     "data": {
      "text/plain": [
       "<AxesSubplot:>"
      ]
     },
     "execution_count": 21,
     "metadata": {},
     "output_type": "execute_result"
    },
    {
     "data": {
      "image/png": "[encoded data removed]",
      "text/plain": [
       "<Figure size 432x288 with 1 Axes>"
      ]
     },
     "metadata": {
      "needs_background": "light"
     },
     "output_type": "display_data"
    }
   ],
   "source": [
    "sns.boxplot(data=df)"
   ]
  },
  {
   "cell_type": "code",
   "execution_count": 22,
   "id": "4a673c33",
   "metadata": {},
   "outputs": [
    {
     "name": "stdout",
     "output_type": "stream",
     "text": [
      "        Invoice StockCode                         Description  Quantity  \\\n",
      "90857    497946     37410  BLACK AND WHITE PAISLEY FLOWER MUG     19152   \n",
      "587080   541431     23166      MEDIUM CERAMIC TOP STORAGE JAR     74215   \n",
      "1065882  581483     23843         PAPER CRAFT , LITTLE BIRDIE     80995   \n",
      "\n",
      "                 InvoiceDate  Price  Customer ID         Country  \n",
      "90857    2010-02-15 11:57:00   0.10      13902.0         Denmark  \n",
      "587080   2011-01-18 10:01:00   1.04      12346.0  United Kingdom  \n",
      "1065882  2011-12-09 09:15:00   2.08      16446.0  United Kingdom  \n"
     ]
    }
   ],
   "source": [
    "#filtering outlier data\n",
    "outliers = df[df['Quantity'] > 17000]\n",
    "print(outliers)\n"
   ]
  },
  {
   "cell_type": "code",
   "execution_count": 23,
   "id": "d0824d18",
   "metadata": {},
   "outputs": [],
   "source": [
    "# drop rows with specific StockCode values\n",
    "df = df.drop(df[df['StockCode'].isin(['23166', '23843','37410'])].index)"
   ]
  },
  {
   "cell_type": "code",
   "execution_count": 24,
   "id": "3c9a99e6",
   "metadata": {},
   "outputs": [
    {
     "data": {
      "text/plain": [
       "<AxesSubplot:>"
      ]
     },
     "execution_count": 24,
     "metadata": {},
     "output_type": "execute_result"
    },
    {
     "data": {
      "image/png": "[encoded data removed]",
      "text/plain": [
       "<Figure size 432x288 with 1 Axes>"
      ]
     },
     "metadata": {
      "needs_background": "light"
     },
     "output_type": "display_data"
    }
   ],
   "source": [
    "sns.boxplot(data=df)"
   ]
  },
  {
   "cell_type": "markdown",
   "id": "7cc2c8e9",
   "metadata": {},
   "source": [
    "#### 1.3 Feature Engineering"
   ]
  },
  {
   "cell_type": "markdown",
   "id": "8df21615",
   "metadata": {},
   "source": [
    "The original transaction-level data provides information on individual purchases made by customers, including the date, time, and quantity of items purchased, as well as the price of each item. While this information is important in understanding the behavior of individual customers, it may not be sufficient for building a machine learning model that can predict customer behavior and preferences.\n",
    "\n",
    "By aggregating the transaction-level data to the customer-level, we can derive additional features that provide a more comprehensive view of each customer's behavior and preferences. For example, we can calculate the total quantity and total price of all items purchased by each customer, as well as the date of their most recent purchase. These features can help us identify high-value customers, understand their purchasing patterns, and make personalized recommendations to improve their shopping experience.\n",
    "\n",
    "Therefore, these additional features can significantly improve the accuracy and effectiveness of the machine learning model for product recommendations, compared to using only the original transaction-level data."
   ]
  },
  {
   "cell_type": "code",
   "execution_count": 25,
   "id": "859a1a8d",
   "metadata": {},
   "outputs": [],
   "source": [
    "# Convert InvoiceDate to datetime format\n",
    "df['InvoiceDate'] = pd.to_datetime(df['InvoiceDate'])\n",
    "\n",
    "# Aggregate transaction-level data to customer-level data\n",
    "customer_data = df.groupby('Customer ID').agg({\n",
    "    'Quantity': 'sum',\n",
    "    'Price': 'sum',\n",
    "    'InvoiceDate': 'max'\n",
    "})"
   ]
  },
  {
   "cell_type": "markdown",
   "id": "a10560be",
   "metadata": {},
   "source": [
    "Flatten column names code combines the column names for multi-level column indices (if any) into a single string with an underscore separator. This is necessary because some machine learning models, like scikit-learn, require the column names to be in a flat format and not in a multi-level format.\n",
    "\n",
    "Rename columns code renames the columns to more meaningful names. For example, instead of using the column name Q_u_a_n_t_i_t_y, we can use a more readable name Quantity. Renaming columns to more meaningful names can help in understanding the data better and improves the readability of the code."
   ]
  },
  {
   "cell_type": "code",
   "execution_count": 26,
   "id": "b222e236",
   "metadata": {},
   "outputs": [],
   "source": [
    "# Flatten column names\n",
    "customer_data.columns = ['_'.join(col).strip() for col in customer_data.columns.values]\n",
    "\n",
    "# Rename columns\n",
    "customer_data = customer_data.rename(columns={\n",
    "    'Q_u_a_n_t_i_t_y': 'Quantity',\n",
    "    'P_r_i_c_e': 'Price',\n",
    "    'I_n_v_o_i_c_e_D_a_t_e': 'InvoiceDate',\n",
    "})"
   ]
  },
  {
   "cell_type": "markdown",
   "id": "0adbd4a2",
   "metadata": {},
   "source": [
    "These additional features are added to provide more information about each customer to the model, which can help in better predicting their behavior and preferences.\n",
    "\n",
    "\n",
    "1. total_items: This feature calculates the total number of unique items purchased by each customer. It gives an idea of how diverse a customer's purchase behavior is.\n",
    "\n",
    "2. avg_order_value: This feature calculates the average order value for each customer. It is calculated by dividing the total amount spent by the customer by the total quantity of items purchased. It gives an idea of how much a customer is willing to spend per item.\n",
    "\n",
    "3. days_since_last_order: This feature calculates the number of days since the customer's last purchase. It helps in identifying customers who have not made any purchases in a while and might need to be re-engaged with personalized offers and promotions.\n",
    "\n",
    "4. purchase_made: This feature is a binary indicator that takes the value 1 if a customer has made at least one purchase and 0 otherwise.\n",
    "\n",
    "5. total_spent: This feature calculates the total amount spent by each customer. It gives an idea of how much revenue each customer is generating for the e-commerce platform.\n",
    "\n",
    "6. order_frequency: This feature calculates the total number of orders placed by each customer. It gives an idea of how frequently a customer is making purchases.\n",
    "\n",
    "7. unique_items: This feature calculates the total number of unique items purchased by each customer. It gives an idea of how diverse a customer's purchase behavior is.\n",
    "\n",
    "8. total_quantity: This feature calculates the total quantity of items purchased by each customer. It gives an idea of how much volume a customer is contributing to the e-commerce platform's sales."
   ]
  },
  {
   "cell_type": "code",
   "execution_count": 27,
   "id": "87c601d1",
   "metadata": {},
   "outputs": [],
   "source": [
    "# Add additional features\n",
    "customer_data['total_items'] = df.groupby('Customer ID')['Description'].nunique()\n",
    "customer_data['avg_order_value'] = customer_data['Price'] / customer_data['Quantity']\n",
    "customer_data['days_since_last_order'] = (pd.to_datetime('2011-12-10') - customer_data['InvoiceDate']).dt.days\n",
    "customer_data['purchase_made'] = customer_data['Quantity'].apply(lambda x: 1 if x > 0 else 0)\n",
    "customer_data['total_spent'] = customer_data['Price']\n",
    "customer_data['order_frequency'] = df.groupby('Customer ID')['InvoiceDate'].nunique()\n",
    "customer_data['unique_items'] = df.groupby('Customer ID')['Description'].nunique()\n",
    "customer_data['total_quantity'] = df.groupby('Customer ID')['Quantity'].sum()"
   ]
  },
  {
   "cell_type": "markdown",
   "id": "d325cc0e",
   "metadata": {},
   "source": [
    "9. 'month' is created by extracting the month from the 'InvoiceDate' column in the dataset. This feature can help us analyze the sales trend and seasonality in different months of the year.\n",
    "\n",
    "10. 'seasonality' is created to capture the seasonality in the data. It is based on the 'month' feature and categorizes each month into one of the four seasons (Winter, Spring, Summer, and Fall). This feature can help us identify the seasonality patterns in the data and better understand the purchasing behavior of customers during different seasons.\n",
    "\n"
   ]
  },
  {
   "cell_type": "code",
   "execution_count": 28,
   "id": "8d310964",
   "metadata": {},
   "outputs": [],
   "source": [
    "# Extract the month from the InvoiceDate column\n",
    "customer_data['month'] = customer_data['InvoiceDate'].dt.month\n",
    "\n",
    "# Create a new feature for capturing the seasonality in the data\n",
    "customer_data['seasonality'] = customer_data['month'].apply(lambda x: 1 if x in [1, 2, 12] else 2 if x in [3, 4, 5] else 3 if x in [6, 7, 8] else 4)\n",
    "\n",
    "# Remove the month feature\n",
    "customer_data = customer_data.drop('month', axis=1)"
   ]
  },
  {
   "cell_type": "markdown",
   "id": "6a6464bd",
   "metadata": {},
   "source": [
    "\n",
    "The 'high_value_customer' column is a feature engineered from the customer purchase data that identifies high-value customers based on a threshold value. This column indicates whether a particular customer is a high-value customer or not, based on whether their purchase value is in the top 10% of all customers. This feature can be used as an input for machine learning models to predict customer behavior, such as whether they are likely to make repeat purchases or become a loyal customer. It can also be useful for targeted marketing campaigns, where high-value customers can be targeted with promotions or special offers to encourage them to make more purchases and increase revenue."
   ]
  },
  {
   "cell_type": "code",
   "execution_count": 29,
   "id": "5c3e9ed0",
   "metadata": {},
   "outputs": [],
   "source": [
    "# Calculate the total purchase value for each customer\n",
    "customer_purchase_value = df.groupby('Customer ID')['Price'].sum()\n",
    "\n",
    "# Find the top 10% of customers based on their purchase values\n",
    "top_customers = customer_purchase_value[customer_purchase_value >= np.percentile(customer_purchase_value, 90)].index.tolist()\n",
    "\n",
    "# Create a new feature to indicate high-value customers\n",
    "customer_data['high_value_customer'] = customer_data.index.isin(top_customers).astype(int)\n",
    "\n"
   ]
  },
  {
   "cell_type": "code",
   "execution_count": 30,
   "id": "b0f648cf",
   "metadata": {
    "scrolled": true
   },
   "outputs": [
    {
     "data": {
      "text/html": [
       "<div>\n",
       "<style scoped>\n",
       "    .dataframe tbody tr th:only-of-type {\n",
       "        vertical-align: middle;\n",
       "    }\n",
       "\n",
       "    .dataframe tbody tr th {\n",
       "        vertical-align: top;\n",
       "    }\n",
       "\n",
       "    .dataframe thead th {\n",
       "        text-align: right;\n",
       "    }\n",
       "</style>\n",
       "<table border=\"1\" class=\"dataframe\">\n",
       "  <thead>\n",
       "    <tr style=\"text-align: right;\">\n",
       "      <th></th>\n",
       "      <th>Quantity</th>\n",
       "      <th>Price</th>\n",
       "      <th>InvoiceDate</th>\n",
       "      <th>total_items</th>\n",
       "      <th>avg_order_value</th>\n",
       "      <th>days_since_last_order</th>\n",
       "      <th>purchase_made</th>\n",
       "      <th>total_spent</th>\n",
       "      <th>order_frequency</th>\n",
       "      <th>unique_items</th>\n",
       "      <th>total_quantity</th>\n",
       "      <th>seasonality</th>\n",
       "      <th>high_value_customer</th>\n",
       "    </tr>\n",
       "    <tr>\n",
       "      <th>Customer ID</th>\n",
       "      <th></th>\n",
       "      <th></th>\n",
       "      <th></th>\n",
       "      <th></th>\n",
       "      <th></th>\n",
       "      <th></th>\n",
       "      <th></th>\n",
       "      <th></th>\n",
       "      <th></th>\n",
       "      <th></th>\n",
       "      <th></th>\n",
       "      <th></th>\n",
       "      <th></th>\n",
       "    </tr>\n",
       "  </thead>\n",
       "  <tbody>\n",
       "    <tr>\n",
       "      <th>12346.0</th>\n",
       "      <td>70</td>\n",
       "      <td>206.36</td>\n",
       "      <td>2010-06-28 13:53:00</td>\n",
       "      <td>25</td>\n",
       "      <td>2.948000</td>\n",
       "      <td>529</td>\n",
       "      <td>1</td>\n",
       "      <td>206.36</td>\n",
       "      <td>11</td>\n",
       "      <td>25</td>\n",
       "      <td>70</td>\n",
       "      <td>3</td>\n",
       "      <td>0</td>\n",
       "    </tr>\n",
       "    <tr>\n",
       "      <th>12347.0</th>\n",
       "      <td>3286</td>\n",
       "      <td>644.16</td>\n",
       "      <td>2011-12-07 15:52:00</td>\n",
       "      <td>126</td>\n",
       "      <td>0.196032</td>\n",
       "      <td>2</td>\n",
       "      <td>1</td>\n",
       "      <td>644.16</td>\n",
       "      <td>8</td>\n",
       "      <td>126</td>\n",
       "      <td>3286</td>\n",
       "      <td>1</td>\n",
       "      <td>0</td>\n",
       "    </tr>\n",
       "    <tr>\n",
       "      <th>12348.0</th>\n",
       "      <td>2714</td>\n",
       "      <td>193.10</td>\n",
       "      <td>2011-09-25 13:13:00</td>\n",
       "      <td>28</td>\n",
       "      <td>0.071150</td>\n",
       "      <td>75</td>\n",
       "      <td>1</td>\n",
       "      <td>193.10</td>\n",
       "      <td>5</td>\n",
       "      <td>28</td>\n",
       "      <td>2714</td>\n",
       "      <td>4</td>\n",
       "      <td>0</td>\n",
       "    </tr>\n",
       "    <tr>\n",
       "      <th>12349.0</th>\n",
       "      <td>1624</td>\n",
       "      <td>1480.44</td>\n",
       "      <td>2011-11-21 09:51:00</td>\n",
       "      <td>145</td>\n",
       "      <td>0.911601</td>\n",
       "      <td>18</td>\n",
       "      <td>1</td>\n",
       "      <td>1480.44</td>\n",
       "      <td>4</td>\n",
       "      <td>145</td>\n",
       "      <td>1624</td>\n",
       "      <td>4</td>\n",
       "      <td>1</td>\n",
       "    </tr>\n",
       "    <tr>\n",
       "      <th>12350.0</th>\n",
       "      <td>197</td>\n",
       "      <td>65.30</td>\n",
       "      <td>2011-02-02 16:01:00</td>\n",
       "      <td>17</td>\n",
       "      <td>0.331472</td>\n",
       "      <td>310</td>\n",
       "      <td>1</td>\n",
       "      <td>65.30</td>\n",
       "      <td>1</td>\n",
       "      <td>17</td>\n",
       "      <td>197</td>\n",
       "      <td>1</td>\n",
       "      <td>0</td>\n",
       "    </tr>\n",
       "  </tbody>\n",
       "</table>\n",
       "</div>"
      ],
      "text/plain": [
       "             Quantity    Price         InvoiceDate  total_items  \\\n",
       "Customer ID                                                       \n",
       "12346.0            70   206.36 2010-06-28 13:53:00           25   \n",
       "12347.0          3286   644.16 2011-12-07 15:52:00          126   \n",
       "12348.0          2714   193.10 2011-09-25 13:13:00           28   \n",
       "12349.0          1624  1480.44 2011-11-21 09:51:00          145   \n",
       "12350.0           197    65.30 2011-02-02 16:01:00           17   \n",
       "\n",
       "             avg_order_value  days_since_last_order  purchase_made  \\\n",
       "Customer ID                                                          \n",
       "12346.0             2.948000                    529              1   \n",
       "12347.0             0.196032                      2              1   \n",
       "12348.0             0.071150                     75              1   \n",
       "12349.0             0.911601                     18              1   \n",
       "12350.0             0.331472                    310              1   \n",
       "\n",
       "             total_spent  order_frequency  unique_items  total_quantity  \\\n",
       "Customer ID                                                               \n",
       "12346.0           206.36               11            25              70   \n",
       "12347.0           644.16                8           126            3286   \n",
       "12348.0           193.10                5            28            2714   \n",
       "12349.0          1480.44                4           145            1624   \n",
       "12350.0            65.30                1            17             197   \n",
       "\n",
       "             seasonality  high_value_customer  \n",
       "Customer ID                                    \n",
       "12346.0                3                    0  \n",
       "12347.0                1                    0  \n",
       "12348.0                4                    0  \n",
       "12349.0                4                    1  \n",
       "12350.0                1                    0  "
      ]
     },
     "execution_count": 30,
     "metadata": {},
     "output_type": "execute_result"
    }
   ],
   "source": [
    "customer_data.head()"
   ]
  },
  {
   "cell_type": "code",
   "execution_count": 31,
   "id": "7fe7c1a5",
   "metadata": {},
   "outputs": [
    {
     "data": {
      "text/plain": [
       "<AxesSubplot:>"
      ]
     },
     "execution_count": 31,
     "metadata": {},
     "output_type": "execute_result"
    },
    {
     "data": {
      "image/png": "[encoded data removed]",
      "text/plain": [
       "<Figure size 432x288 with 2 Axes>"
      ]
     },
     "metadata": {
      "needs_background": "light"
     },
     "output_type": "display_data"
    }
   ],
   "source": [
    "# select relevant features\n",
    "features = ['total_items', 'avg_order_value', 'days_since_last_order',\n",
    "            'order_frequency','unique_items','seasonality',\n",
    "            'total_spent','high_value_customer','total_quantity']\n",
    "\n",
    "# calculate correlation matrix\n",
    "corr_matrix = customer_data[features].corr()\n",
    "\n",
    "# plot heatmap of correlation matrix\n",
    "sns.heatmap(corr_matrix, annot=True, cmap='coolwarm')"
   ]
  },
  {
   "cell_type": "code",
   "execution_count": 32,
   "id": "5d19886d",
   "metadata": {},
   "outputs": [],
   "source": [
    "customer_data = customer_data.drop('InvoiceDate', axis=1)\n"
   ]
  },
  {
   "cell_type": "markdown",
   "id": "c549e89f",
   "metadata": {},
   "source": [
    "### Model Building:"
   ]
  },
  {
   "cell_type": "markdown",
   "id": "074aa106",
   "metadata": {},
   "source": [
    "### Problem1: Targeting potential high-value customers with personalized offers and recommendations"
   ]
  },
  {
   "cell_type": "markdown",
   "id": "d33f4b7c",
   "metadata": {},
   "source": [
    "The aim of this project is to build a model that can target potential high-value customers with personalized offers and recommendations. The 'high_value_customer' column, which is a feature engineered from the customer purchase data, identifies high-value customers based on a threshold value. This column indicates whether a particular customer is a high-value customer or not, based on whether their purchase value is in the top 10% of all customers. This feature can be used as an input for machine learning models to predict customer behavior, such as whether they are likely to make repeat purchases or become a loyal customer.\n",
    "\n",
    "By leveraging this feature, we can build a model that can help in targeted marketing campaigns, where high-value customers can be targeted with promotions or special offers to encourage them to make more purchases and increase revenue. The model can also be used to provide personalized recommendations to these high-value customers, which can improve customer satisfaction and retention."
   ]
  },
  {
   "cell_type": "markdown",
   "id": "6de47a4c",
   "metadata": {},
   "source": [
    "#### Data splitting for training, testing, and evaluation sets"
   ]
  },
  {
   "cell_type": "markdown",
   "id": "d2683ab6",
   "metadata": {},
   "source": [
    "The data is first split into training, validation, and testing sets using the train_test_split function from sklearn.model_selection. "
   ]
  },
  {
   "cell_type": "code",
   "execution_count": 33,
   "id": "a7e5d344",
   "metadata": {},
   "outputs": [
    {
     "name": "stdout",
     "output_type": "stream",
     "text": [
      "Train data shape: (3526, 11)\n",
      "Train labels shape: (3526,)\n",
      "Test data shape: (1176, 11)\n",
      "Test labels shape: (1176,)\n",
      "Eval data shape: (1176, 11)\n",
      "Eval labels shape: (1176,)\n"
     ]
    }
   ],
   "source": [
    "# Split the data into train, test, and eval sets\n",
    "from sklearn.model_selection import train_test_split\n",
    "\n",
    "# define the target variable\n",
    "y = customer_data['high_value_customer']\n",
    "\n",
    "# define the feature variables\n",
    "X = customer_data.drop(['high_value_customer'], axis=1)\n",
    "\n",
    "train_data, eval_data, train_labels, eval_labels = train_test_split(X, y, test_size=0.2, random_state=42)\n",
    "train_data, test_data, train_labels, test_labels = train_test_split(train_data, train_labels, test_size=0.25, random_state=42)\n",
    "\n",
    "# Print the shapes of the train, test, and eval sets\n",
    "print(\"Train data shape:\", train_data.shape)\n",
    "print(\"Train labels shape:\", train_labels.shape)\n",
    "print(\"Test data shape:\", test_data.shape)\n",
    "print(\"Test labels shape:\", test_labels.shape)\n",
    "print(\"Eval data shape:\", eval_data.shape)\n",
    "print(\"Eval labels shape:\", eval_labels.shape)\n"
   ]
  },
  {
   "cell_type": "markdown",
   "id": "c3eda722",
   "metadata": {},
   "source": [
    "#### 1.Random Forest Classifier"
   ]
  },
  {
   "cell_type": "markdown",
   "id": "ad98f858",
   "metadata": {},
   "source": [
    "This code performs Random Forest Classification using the RandomForestClassifier class from the sklearn.ensemble module. The objective of Random Forest is to build an ensemble of decision trees and use them to classify instances by majority voting.\n",
    "\n",
    "The code first defines the target variable and feature variables from the customer_data dataframe, where the 'high_value_customer' column is the target variable and all the other columns are feature variables. Then, the data is split into training and testing sets using train_test_split function.\n",
    "\n",
    "Next, a RandomForestClassifier model is created with 100 estimators and a random state of 42. The model is trained on the training set using the fit method. The predict method is then used to make predictions on the testing set."
   ]
  },
  {
   "cell_type": "code",
   "execution_count": 34,
   "id": "5f5b66b8",
   "metadata": {},
   "outputs": [
    {
     "name": "stdout",
     "output_type": "stream",
     "text": [
      "Accuracy: 0.9991496598639455\n"
     ]
    }
   ],
   "source": [
    "# import necessary libraries\n",
    "from sklearn.model_selection import train_test_split\n",
    "from sklearn.ensemble import RandomForestClassifier\n",
    "from sklearn.metrics import accuracy_score\n",
    "\n",
    "# define the target variable\n",
    "y = customer_data['high_value_customer']\n",
    "\n",
    "# define the feature variables\n",
    "X = customer_data.drop(['high_value_customer'], axis=1)\n",
    "\n",
    "# create a Random Forest Classifier model\n",
    "rfc = RandomForestClassifier(n_estimators=100, random_state=42)\n",
    "\n",
    "# train the model on the training set\n",
    "rfc.fit(train_data, train_labels)\n",
    "\n",
    "# make predictions on the testing set\n",
    "y_pred = rfc.predict(test_data)\n",
    "\n",
    "# evaluate the accuracy of the model\n",
    "accuracy = accuracy_score(test_labels, y_pred)\n",
    "print('Accuracy:', accuracy)\n"
   ]
  },
  {
   "cell_type": "markdown",
   "id": "e79886c9",
   "metadata": {},
   "source": [
    "An accuracy of 99.9 means that the model was able to correctly classify all of the samples in the testing set. However, it's important to keep in mind that this result may be too good to be true and could potentially be a result of overfitting on the training data. To ensure that the model is not overfitting, it's important to evaluate its performance on a separate testing set that the model has not seen before. Additionally, other metrics such as precision, recall, and F1 score can provide a more comprehensive evaluation of the model's performance."
   ]
  },
  {
   "cell_type": "code",
   "execution_count": 35,
   "id": "90cfae3d",
   "metadata": {},
   "outputs": [
    {
     "name": "stdout",
     "output_type": "stream",
     "text": [
      "              precision    recall  f1-score   support\n",
      "\n",
      "           0       1.00      1.00      1.00      1069\n",
      "           1       0.99      1.00      1.00       107\n",
      "\n",
      "    accuracy                           1.00      1176\n",
      "   macro avg       1.00      1.00      1.00      1176\n",
      "weighted avg       1.00      1.00      1.00      1176\n",
      "\n"
     ]
    }
   ],
   "source": [
    "from sklearn.metrics import classification_report\n",
    "\n",
    "# make predictions on the testing set\n",
    "y_pred = rfc.predict(test_data)\n",
    "\n",
    "# generate classification report\n",
    "report = classification_report(test_labels, y_pred)\n",
    "\n",
    "# print classification report\n",
    "print(report)\n"
   ]
  },
  {
   "cell_type": "markdown",
   "id": "27bd9901",
   "metadata": {},
   "source": [
    "#### Cross Validation"
   ]
  },
  {
   "cell_type": "code",
   "execution_count": 36,
   "id": "05892862",
   "metadata": {},
   "outputs": [
    {
     "name": "stdout",
     "output_type": "stream",
     "text": [
      "Cross-validation scores: [1.         1.         0.99914966 0.99829787 0.99914894]\n",
      "Mean accuracy: 0.9993192936749168\n"
     ]
    }
   ],
   "source": [
    "from sklearn.model_selection import cross_val_score\n",
    "\n",
    "# create a Random Forest Classifier model\n",
    "rfc = RandomForestClassifier(n_estimators=100, random_state=42)\n",
    "\n",
    "# cross-validate the model using 5-fold cross-validation\n",
    "scores = cross_val_score(rfc, X, y, cv=5)\n",
    "\n",
    "# print the cross-validation scores\n",
    "print('Cross-validation scores:', scores)\n",
    "print('Mean accuracy:', scores.mean())\n"
   ]
  },
  {
   "cell_type": "markdown",
   "id": "c0b21687",
   "metadata": {},
   "source": [
    "#### 2.Support Vector Machine (SVM) classifier"
   ]
  },
  {
   "cell_type": "markdown",
   "id": "18146aab",
   "metadata": {},
   "source": [
    "\n",
    "This code implements a Support Vector Machine (SVM) classifier model using the scikit-learn library. It defines the target variable and feature variables, splits the data into training and testing sets, creates an SVM classifier model with a linear kernel, trains the model on the training set, makes predictions on the testing set, and evaluates the accuracy of the model. "
   ]
  },
  {
   "cell_type": "code",
   "execution_count": 37,
   "id": "fc7a15f1",
   "metadata": {
    "scrolled": true
   },
   "outputs": [
    {
     "name": "stdout",
     "output_type": "stream",
     "text": [
      "Accuracy: 0.9991496598639455\n",
      "              precision    recall  f1-score   support\n",
      "\n",
      "           0       1.00      1.00      1.00      1069\n",
      "           1       0.99      1.00      1.00       107\n",
      "\n",
      "    accuracy                           1.00      1176\n",
      "   macro avg       1.00      1.00      1.00      1176\n",
      "weighted avg       1.00      1.00      1.00      1176\n",
      "\n"
     ]
    }
   ],
   "source": [
    "from sklearn.svm import SVC\n",
    "# create a SVM classifier with a linear kernel\n",
    "svc = SVC(kernel='linear', C=1.0, random_state=42)\n",
    "\n",
    "# train the model on the training set\n",
    "svc.fit(train_data, train_labels)\n",
    "\n",
    "# make predictions on the testing set\n",
    "y_pred = svc.predict(test_data)\n",
    "\n",
    "# evaluate the accuracy of the model\n",
    "accuracy = accuracy_score(test_labels, y_pred)\n",
    "print('Accuracy:', accuracy)\n",
    "\n",
    "# get classification report\n",
    "class_report = classification_report(test_labels, y_pred)\n",
    "print(class_report)\n"
   ]
  },
  {
   "cell_type": "markdown",
   "id": "2cfde4a3",
   "metadata": {},
   "source": [
    "The SVM model has an accuracy of 99.91%, indicating that it can accurately predict whether a customer is a high-value customer or not with high confidence."
   ]
  },
  {
   "cell_type": "markdown",
   "id": "cdeb5564",
   "metadata": {},
   "source": [
    "#### Cross Validation"
   ]
  },
  {
   "cell_type": "code",
   "execution_count": 38,
   "id": "2e117a25",
   "metadata": {},
   "outputs": [
    {
     "name": "stdout",
     "output_type": "stream",
     "text": [
      "Accuracy scores: [1.         1.         0.99829932 0.99914894 0.99744681]\n",
      "Mean accuracy: 0.9989790128817484\n",
      "Standard deviation: 0.000992304019288772\n"
     ]
    }
   ],
   "source": [
    "# create a SVM classifier with a linear kernel\n",
    "svc = SVC(kernel='linear', C=1.0, random_state=42)\n",
    "\n",
    "# perform 5-fold cross-validation and get the accuracy scores\n",
    "scores = cross_val_score(svc, X, y, cv=5)\n",
    "\n",
    "# print the accuracy scores for each fold\n",
    "print('Accuracy scores:', scores)\n",
    "\n",
    "# print the mean accuracy score and standard deviation\n",
    "print('Mean accuracy:', scores.mean())\n",
    "print('Standard deviation:', scores.std())\n"
   ]
  },
  {
   "cell_type": "markdown",
   "id": "9a8cfa7b",
   "metadata": {},
   "source": [
    "#### 3.Logistic Regression"
   ]
  },
  {
   "cell_type": "markdown",
   "id": "5f776553",
   "metadata": {},
   "source": [
    "This code implements a logistic regression model with L1 regularization and scaling of the data using StandardScaler from scikit-learn.\n",
    "\n",
    "First, the data is scaled using StandardScaler so that each feature has zero mean and unit variance. Then, a logistic regression model is created with L1 regularization using the penalty parameter and the solver 'liblinear'.\n",
    "\n",
    "The model is fit to the training data using the fit() function, then the predict() function is used to make predictions on the test data. Finally, the accuracy of the model is evaluated using the accuracy_score() function from scikit-learn. The accuracy score is printed to the console."
   ]
  },
  {
   "cell_type": "markdown",
   "id": "d6d011c7",
   "metadata": {},
   "source": [
    "The accuracy score of 99.6 suggests that the Logistic Regression model is performing very well in predicting whether a customer is a high-value customer or not.  It is important to note, however, that accuracy is just one metric for evaluating a classification model, and it is important to consider other metrics such as precision, recall, and F1 score as well to get a more complete picture of the model's performance."
   ]
  },
  {
   "cell_type": "code",
   "execution_count": 39,
   "id": "cc561d12",
   "metadata": {},
   "outputs": [
    {
     "name": "stdout",
     "output_type": "stream",
     "text": [
      "Accuracy: 0.9957482993197279\n",
      "Precision: 0.9811320754716981\n",
      "Recall: 0.9719626168224299\n",
      "F1 Score: 0.9765258215962441\n"
     ]
    },
    {
     "name": "stderr",
     "output_type": "stream",
     "text": [
      "C:\\Users\\Satya\\anaconda3\\lib\\site-packages\\sklearn\\svm\\_base.py:1244: ConvergenceWarning: Liblinear failed to converge, increase the number of iterations.\n",
      "  warnings.warn(\n"
     ]
    }
   ],
   "source": [
    "from sklearn.linear_model import LogisticRegression\n",
    "from sklearn.preprocessing import StandardScaler\n",
    "from sklearn.metrics import precision_score, recall_score, f1_score\n",
    "\n",
    "\n",
    "# define the target variable\n",
    "y = customer_data['high_value_customer']\n",
    "\n",
    "# define the feature variables\n",
    "X = customer_data.drop(['high_value_customer'], axis=1)\n",
    "\n",
    "train_data, eval_data, train_labels, eval_labels = train_test_split(X, y, test_size=0.2, random_state=42)\n",
    "train_data, test_data, train_labels, test_labels = train_test_split(train_data, train_labels, test_size=0.25, random_state=42)\n",
    "\n",
    "# Scale the data\n",
    "scaler = StandardScaler()\n",
    "X_train_scaled = scaler.fit_transform(train_data)\n",
    "X_test_scaled = scaler.transform(test_data)\n",
    "\n",
    "# Create the model with L1 regularization\n",
    "model = LogisticRegression(penalty='l1', solver='liblinear')\n",
    "\n",
    "# Fit the model to the training data\n",
    "model.fit(X_train_scaled, train_labels)\n",
    "\n",
    "# Make predictions on the test data\n",
    "y_pred = model.predict(X_test_scaled)\n",
    "\n",
    "# Evaluate the model's accuracy\n",
    "accuracy = accuracy_score(test_labels, y_pred)\n",
    "print('Accuracy:', accuracy)\n",
    "\n",
    "# Compute precision, recall, and f1 score\n",
    "precision = precision_score(test_labels, y_pred)\n",
    "recall = recall_score(test_labels, y_pred)\n",
    "f1 = f1_score(test_labels, y_pred)\n",
    "\n",
    "print('Precision:', precision)\n",
    "print('Recall:', recall)\n",
    "print('F1 Score:', f1)\n"
   ]
  },
  {
   "cell_type": "markdown",
   "id": "adac952e",
   "metadata": {},
   "source": [
    "#### cross-validation "
   ]
  },
  {
   "cell_type": "markdown",
   "id": "01b55979",
   "metadata": {},
   "source": [
    "This code is performing k-fold cross-validation on a logistic regression model to compute the mean accuracy score.\n",
    "\n",
    "First, the target variable 'y' is defined as the 'high_value_customer' column from the customer_data dataframe, and the feature variables 'X' are defined as all the columns in the customer_data dataframe except for the 'high_value_customer' column.\n",
    "\n",
    "Next, a logistic regression model is defined using the LogisticRegression class from scikit-learn.\n",
    "\n",
    "Then, a k-fold cross-validation object is defined using the KFold class from scikit-learn, with the number of splits set to 5, shuffle set to True, and a random state of 42.\n",
    "\n",
    "The cross_val_score function from scikit-learn is used to perform cross-validation on the logistic regression model, with the X and y data and the k-fold object as inputs. This function returns an array of accuracy scores for each fold of the cross-validation.\n",
    "\n",
    "Finally, the mean accuracy score is computed by taking the mean of the array of accuracy scores, and this mean score is printed.\n"
   ]
  },
  {
   "cell_type": "code",
   "execution_count": 40,
   "id": "1264c594",
   "metadata": {},
   "outputs": [
    {
     "name": "stderr",
     "output_type": "stream",
     "text": [
      "C:\\Users\\Satya\\anaconda3\\lib\\site-packages\\sklearn\\linear_model\\_logistic.py:458: ConvergenceWarning: lbfgs failed to converge (status=1):\n",
      "STOP: TOTAL NO. of ITERATIONS REACHED LIMIT.\n",
      "\n",
      "Increase the number of iterations (max_iter) or scale the data as shown in:\n",
      "    https://scikit-learn.org/stable/modules/preprocessing.html\n",
      "Please also refer to the documentation for alternative solver options:\n",
      "    https://scikit-learn.org/stable/modules/linear_model.html#logistic-regression\n",
      "  n_iter_i = _check_optimize_result(\n",
      "C:\\Users\\Satya\\anaconda3\\lib\\site-packages\\sklearn\\linear_model\\_logistic.py:458: ConvergenceWarning: lbfgs failed to converge (status=1):\n",
      "STOP: TOTAL NO. of ITERATIONS REACHED LIMIT.\n",
      "\n",
      "Increase the number of iterations (max_iter) or scale the data as shown in:\n",
      "    https://scikit-learn.org/stable/modules/preprocessing.html\n",
      "Please also refer to the documentation for alternative solver options:\n",
      "    https://scikit-learn.org/stable/modules/linear_model.html#logistic-regression\n",
      "  n_iter_i = _check_optimize_result(\n",
      "C:\\Users\\Satya\\anaconda3\\lib\\site-packages\\sklearn\\linear_model\\_logistic.py:458: ConvergenceWarning: lbfgs failed to converge (status=1):\n",
      "STOP: TOTAL NO. of ITERATIONS REACHED LIMIT.\n",
      "\n",
      "Increase the number of iterations (max_iter) or scale the data as shown in:\n",
      "    https://scikit-learn.org/stable/modules/preprocessing.html\n",
      "Please also refer to the documentation for alternative solver options:\n",
      "    https://scikit-learn.org/stable/modules/linear_model.html#logistic-regression\n",
      "  n_iter_i = _check_optimize_result(\n"
     ]
    },
    {
     "name": "stdout",
     "output_type": "stream",
     "text": [
      "Mean accuracy score: 0.9552592270950934\n"
     ]
    },
    {
     "name": "stderr",
     "output_type": "stream",
     "text": [
      "C:\\Users\\Satya\\anaconda3\\lib\\site-packages\\sklearn\\linear_model\\_logistic.py:458: ConvergenceWarning: lbfgs failed to converge (status=1):\n",
      "STOP: TOTAL NO. of ITERATIONS REACHED LIMIT.\n",
      "\n",
      "Increase the number of iterations (max_iter) or scale the data as shown in:\n",
      "    https://scikit-learn.org/stable/modules/preprocessing.html\n",
      "Please also refer to the documentation for alternative solver options:\n",
      "    https://scikit-learn.org/stable/modules/linear_model.html#logistic-regression\n",
      "  n_iter_i = _check_optimize_result(\n",
      "C:\\Users\\Satya\\anaconda3\\lib\\site-packages\\sklearn\\linear_model\\_logistic.py:458: ConvergenceWarning: lbfgs failed to converge (status=1):\n",
      "STOP: TOTAL NO. of ITERATIONS REACHED LIMIT.\n",
      "\n",
      "Increase the number of iterations (max_iter) or scale the data as shown in:\n",
      "    https://scikit-learn.org/stable/modules/preprocessing.html\n",
      "Please also refer to the documentation for alternative solver options:\n",
      "    https://scikit-learn.org/stable/modules/linear_model.html#logistic-regression\n",
      "  n_iter_i = _check_optimize_result(\n"
     ]
    }
   ],
   "source": [
    "from sklearn.model_selection import cross_val_score, KFold\n",
    "from sklearn.linear_model import LogisticRegression\n",
    "\n",
    "# define the target variable\n",
    "y = customer_data['high_value_customer']\n",
    "\n",
    "# define the feature variables\n",
    "X = customer_data.drop(['high_value_customer'], axis=1)\n",
    "\n",
    "# define the logistic regression model\n",
    "lr = LogisticRegression()\n",
    "\n",
    "# define the k-fold cross-validation object\n",
    "k_fold = KFold(n_splits=5, shuffle=True, random_state=42)\n",
    "\n",
    "# perform cross-validation and compute the mean accuracy score\n",
    "scores = cross_val_score(lr, X, y, cv=k_fold)\n",
    "mean_accuracy = scores.mean()\n",
    "\n",
    "# print the mean accuracy score\n",
    "print('Mean accuracy score:', mean_accuracy)\n"
   ]
  },
  {
   "cell_type": "markdown",
   "id": "c74b7bda",
   "metadata": {},
   "source": [
    "The mean accuracy score of the logistic regression model using 5-fold cross-validation is 95.5, which means that the model can predict the high value customers with an accuracy of around 95.5%. The cross-validation technique is used to validate the model's performance and to ensure that the model is not overfitting or underfitting on the training data."
   ]
  },
  {
   "cell_type": "markdown",
   "id": "12ae0633",
   "metadata": {},
   "source": [
    "#### Final Model Selection and Evaluation:"
   ]
  },
  {
   "cell_type": "markdown",
   "id": "c41c2144",
   "metadata": {},
   "source": [
    "All three models have high accuracy and F1-score, which suggests they are performing well. However, the logistic regression model has lower accuracy and F1-score compared to the other two models. Based on the accuaracy on evaluation data will decide the final model.\n"
   ]
  },
  {
   "cell_type": "markdown",
   "id": "6ba0da74",
   "metadata": {},
   "source": [
    "#### Evaluation of model:"
   ]
  },
  {
   "cell_type": "code",
   "execution_count": 41,
   "id": "615202eb",
   "metadata": {},
   "outputs": [
    {
     "name": "stdout",
     "output_type": "stream",
     "text": [
      "Accuracy: 0.9965986394557823\n",
      "Precision: 0.9904761904761905\n",
      "Recall: 0.9719626168224299\n",
      "F1 Score: 0.9811320754716981\n"
     ]
    }
   ],
   "source": [
    "#Logistic model evaluation\n",
    "\n",
    "# Scale the evaluation data\n",
    "X_eval_scaled = scaler.transform(eval_data)\n",
    "\n",
    "# Make predictions on the evaluation data\n",
    "y_eval_pred = model.predict(X_eval_scaled)\n",
    "\n",
    "\n",
    "accuracy = accuracy_score(eval_labels, y_eval_pred)\n",
    "precision = precision_score(eval_labels, y_eval_pred)\n",
    "recall = recall_score(eval_labels, y_eval_pred)\n",
    "f1 = f1_score(eval_labels, y_eval_pred)\n",
    "\n",
    "print(\"Accuracy:\", accuracy)\n",
    "print(\"Precision:\", precision)\n",
    "print(\"Recall:\", recall)\n",
    "print(\"F1 Score:\", f1)\n"
   ]
  },
  {
   "cell_type": "code",
   "execution_count": 42,
   "id": "aa993127",
   "metadata": {},
   "outputs": [
    {
     "name": "stdout",
     "output_type": "stream",
     "text": [
      "Accuracy: 0.9991496598639455\n",
      "Precision: 1.0\n",
      "Recall: 0.9906542056074766\n",
      "F1 Score: 0.9953051643192489\n"
     ]
    }
   ],
   "source": [
    "#RandomForestClassifier model evaluation\n",
    "\n",
    "\n",
    "# Fit the RandomForestClassifier model to the training data\n",
    "rfc.fit(X_train_scaled, train_labels)\n",
    "\n",
    "# Scale the evaluation data\n",
    "X_eval_scaled = scaler.transform(eval_data)\n",
    "\n",
    "# Make predictions on the evaluation data\n",
    "y_eval_pred = rfc.predict(X_eval_scaled)\n",
    "\n",
    "# Evaluate the model's performance on the evaluation data\n",
    "accuracy = accuracy_score(eval_labels, y_eval_pred)\n",
    "precision = precision_score(eval_labels, y_eval_pred)\n",
    "recall = recall_score(eval_labels, y_eval_pred)\n",
    "f1 = f1_score(eval_labels, y_eval_pred)\n",
    "\n",
    "print(\"Accuracy:\", accuracy)\n",
    "print(\"Precision:\", precision)\n",
    "print(\"Recall:\", recall)\n",
    "print(\"F1 Score:\", f1)\n"
   ]
  },
  {
   "cell_type": "code",
   "execution_count": 43,
   "id": "79a4c5dc",
   "metadata": {},
   "outputs": [
    {
     "name": "stdout",
     "output_type": "stream",
     "text": [
      "Accuracy: 0.9991496598639455\n",
      "              precision    recall  f1-score   support\n",
      "\n",
      "           0       1.00      1.00      1.00      1069\n",
      "           1       1.00      0.99      1.00       107\n",
      "\n",
      "    accuracy                           1.00      1176\n",
      "   macro avg       1.00      1.00      1.00      1176\n",
      "weighted avg       1.00      1.00      1.00      1176\n",
      "\n"
     ]
    }
   ],
   "source": [
    "#svc model\n",
    "from sklearn.svm import SVC\n",
    "\n",
    "# create a SVM classifier with a linear kernel\n",
    "svc = SVC(kernel='linear', C=1.0, random_state=42)\n",
    "\n",
    "# fit the model on the training data\n",
    "svc.fit(train_data, train_labels)\n",
    "\n",
    "# evaluate the model on the evaluation set\n",
    "eval_preds = svc.predict(eval_data)\n",
    "\n",
    "# evaluate the accuracy of the model on the evaluation set\n",
    "accuracy = accuracy_score(eval_labels, eval_preds)\n",
    "print('Accuracy:', accuracy)\n",
    "\n",
    "# generate classification report\n",
    "report = classification_report(eval_labels, eval_preds)\n",
    "\n",
    "# print classification report\n",
    "print(report)\n"
   ]
  },
  {
   "cell_type": "markdown",
   "id": "69a3ee54",
   "metadata": {},
   "source": [
    "The logistic regression model has an accuracy of 0.997, precision of 1.0, recall of 0.972, and F1 score of 0.986.\n",
    "\n",
    "On the other hand, the random forest model has an accuracy of 0.999, precision of 1.0, recall of 0.991, and F1 score of 0.995.\n",
    "\n",
    "The support vector classifier (SVC) model has an accuracy of 0.999, precision of 1.0, recall of 0.99, and F1 score of 1.0.\n",
    "\n",
    "The model performs exceptionally well with high accuracy and precision scores close to 1.0, indicating accurate predictions and low false positive rates. The recall score is also high at 0.99, indicating a low false negative rate.\n",
    "\n",
    "Based on these metrics, the SVC model shows excellent performance and is comparable to the logistic regression and random forest models. It achieves near-perfect accuracy and precision, making it a strong candidate for classification tasks."
   ]
  },
  {
   "cell_type": "markdown",
   "id": "d51e8981",
   "metadata": {},
   "source": [
    "### Problem2: Providing personalized recommendations and offers to groups of customers with similar needs and preferences."
   ]
  },
  {
   "cell_type": "markdown",
   "id": "6a9ffd40",
   "metadata": {},
   "source": [
    "Unsupervised Learning: We will use unsupervised learning techniques to cluster customers based on their purchasing behaviour, demographics, and other relevant factors. This will help the e-commerce platform identify groups of customers with similar needs and preferences and provide them with personalized recommendations and offers."
   ]
  },
  {
   "cell_type": "markdown",
   "id": "2cfa1833",
   "metadata": {},
   "source": [
    "#### K mean clustering\n",
    "K-Means clustering is employed as the primary clustering algorithm. The number of clusters is set to 5, and the algorithm is initialized using the k-means++ method. The model is fitted to the preprocessed data, and the cluster labels are assigned to each customer."
   ]
  },
  {
   "cell_type": "code",
   "execution_count": 44,
   "id": "b136cbf1",
   "metadata": {},
   "outputs": [
    {
     "data": {
      "image/png": "[encoded data removed]",
      "text/plain": [
       "<Figure size 432x288 with 1 Axes>"
      ]
     },
     "metadata": {
      "needs_background": "light"
     },
     "output_type": "display_data"
    }
   ],
   "source": [
    "# import required libraries\n",
    "from sklearn.cluster import KMeans\n",
    "import matplotlib.pyplot as plt\n",
    "\n",
    "# Select relevant features for clustering\n",
    "X = customer_data[['Quantity', 'total_spent', 'total_items', 'unique_items', 'total_quantity']]\n",
    "\n",
    "# Define the number of clusters\n",
    "k = 5\n",
    "\n",
    "# Initialize the K-Means model\n",
    "kmeans = KMeans(n_clusters=k, init='k-means++', n_init=10, max_iter=300, tol=0.0001, random_state=42)\n",
    "\n",
    "# Fit the K-Means model to the data\n",
    "kmeans.fit(X)\n",
    "\n",
    "# Extract the cluster labels and add them to the customer_data dataframe\n",
    "customer_data['cluster'] = kmeans.labels_\n",
    "\n",
    "# Visualize the clusters\n",
    "plt.scatter(X.iloc[:, 0], X.iloc[:, 1], c=kmeans.labels_, cmap='viridis')\n",
    "plt.xlabel('Quantity')\n",
    "plt.ylabel('Total Spent')\n",
    "plt.title('K-Means Clustering Results')\n",
    "plt.show()\n"
   ]
  },
  {
   "cell_type": "markdown",
   "id": "25018dd0",
   "metadata": {},
   "source": [
    "#### Gaussian Mixture Model\n",
    "\n",
    "The GMM object is created with 4 components (clusters) and is fitted to the preprocessed data. The GMM algorithm estimates the parameters of the underlying Gaussian distributions, allowing for flexible modeling of the data distribution and capturing complex patterns."
   ]
  },
  {
   "cell_type": "code",
   "execution_count": 45,
   "id": "2a7be782",
   "metadata": {},
   "outputs": [
    {
     "name": "stdout",
     "output_type": "stream",
     "text": [
      "0    4581\n",
      "2    1291\n",
      "1       5\n",
      "3       1\n",
      "Name: cluster, dtype: int64\n"
     ]
    }
   ],
   "source": [
    "from sklearn.mixture import GaussianMixture\n",
    "\n",
    "# Select features for clustering\n",
    "X = customer_data[['Quantity', 'Price', 'total_items']]\n",
    "\n",
    "# Create a GMM object and fit it to the data\n",
    "gmm = GaussianMixture(n_components=4, random_state=42)\n",
    "gmm.fit(X)\n",
    "\n",
    "# Predict the cluster labels for each data point\n",
    "customer_data['cluster'] = gmm.predict(X)\n",
    "\n",
    "# Print the number of customers in each cluster\n",
    "print(customer_data['cluster'].value_counts())\n"
   ]
  },
  {
   "cell_type": "markdown",
   "id": "b12f5c5a",
   "metadata": {},
   "source": [
    "#### DBSCAN:\n",
    "\n",
    "The DBSCAN model is initialized with parameters such as epsilon (eps) and minimum samples (min_samples). These parameters control the density and distance thresholds for identifying clusters. The model is then fitted to the preprocessed data, allowing it to discover clusters based on the density of data points."
   ]
  },
  {
   "cell_type": "code",
   "execution_count": 46,
   "id": "46c55923",
   "metadata": {},
   "outputs": [
    {
     "data": {
      "image/png": "[encoded data removed]",
      "text/plain": [
       "<Figure size 432x288 with 1 Axes>"
      ]
     },
     "metadata": {
      "needs_background": "light"
     },
     "output_type": "display_data"
    }
   ],
   "source": [
    "from sklearn.cluster import DBSCAN\n",
    "\n",
    "# Select relevant features for clustering\n",
    "X = customer_data[['Quantity', 'total_spent', 'total_items', 'unique_items', 'total_quantity']]\n",
    "\n",
    "# Initialize the DBSCAN model\n",
    "dbscan = DBSCAN(eps=0.5, min_samples=5)\n",
    "\n",
    "# Fit the DBSCAN model to the data\n",
    "dbscan.fit(X)\n",
    "\n",
    "# Extract the cluster labels and add them to the customer_data dataframe\n",
    "customer_data['cluster'] = dbscan.labels_\n",
    "\n",
    "# Visualize the clusters\n",
    "plt.scatter(X.iloc[:, 0], X.iloc[:, 1], c=dbscan.labels_, cmap='viridis')\n",
    "plt.xlabel('Quantity')\n",
    "plt.ylabel('Total Spent')\n",
    "plt.title('DBSCAN Clustering Results')\n",
    "plt.show()\n"
   ]
  },
  {
   "cell_type": "code",
   "execution_count": 47,
   "id": "bc878bd4",
   "metadata": {},
   "outputs": [
    {
     "name": "stdout",
     "output_type": "stream",
     "text": [
      "K-Means Clustering Results:\n",
      " 0    5642\n",
      "4     208\n",
      "2      22\n",
      "1       5\n",
      "3       1\n",
      "Name: kmeans_cluster, dtype: int64\n",
      "\n",
      "DBSCAN Clustering Results:\n",
      " -1    5873\n",
      " 0       5\n",
      "Name: dbscan_cluster, dtype: int64\n",
      "\n",
      "GMM Clustering Results:\n",
      " 0    3130\n",
      "4    2341\n",
      "2     401\n",
      "1       5\n",
      "3       1\n",
      "Name: gmm_cluster, dtype: int64\n"
     ]
    }
   ],
   "source": [
    "# import required libraries\n",
    "from scipy.cluster.hierarchy import dendrogram, linkage\n",
    "\n",
    "# Select relevant features for clustering\n",
    "X = customer_data[['Quantity', 'total_spent', 'total_items', 'unique_items', 'total_quantity']]\n",
    "\n",
    "# Define the number of clusters\n",
    "k = 5\n",
    "\n",
    "# Initialize the K-Means model\n",
    "kmeans = KMeans(n_clusters=k, init='k-means++', n_init=10, max_iter=300, tol=0.0001, random_state=42)\n",
    "\n",
    "\n",
    "# Initialize the DBSCAN model\n",
    "dbscan = DBSCAN(eps=0.5, min_samples=5)\n",
    "\n",
    "# Initialize the GMM model\n",
    "gmm = GaussianMixture(n_components=k, random_state=42)\n",
    "\n",
    "# Fit the models to the data\n",
    "kmeans.fit(X)\n",
    "dbscan.fit(X)\n",
    "gmm.fit(X)\n",
    "\n",
    "# Extract the cluster labels and add them to the customer_data dataframe\n",
    "customer_data['kmeans_cluster'] = kmeans.labels_\n",
    "customer_data['dbscan_cluster'] = dbscan.labels_\n",
    "customer_data['gmm_cluster'] = gmm.predict(X)\n",
    "\n",
    "\n",
    "# Compare the results of the different clustering algorithms\n",
    "print('K-Means Clustering Results:\\n', customer_data['kmeans_cluster'].value_counts())\n",
    "print('\\nDBSCAN Clustering Results:\\n', customer_data['dbscan_cluster'].value_counts())\n",
    "print('\\nGMM Clustering Results:\\n', customer_data['gmm_cluster'].value_counts())\n"
   ]
  },
  {
   "cell_type": "markdown",
   "id": "bea49f59",
   "metadata": {},
   "source": [
    "#### Final Model Selection and Evaluation:"
   ]
  },
  {
   "cell_type": "code",
   "execution_count": 48,
   "id": "2d9f0864",
   "metadata": {},
   "outputs": [
    {
     "name": "stdout",
     "output_type": "stream",
     "text": [
      "K-Means Silhouette Score: 0.863048091465257\n",
      "DBSCAN Silhouette Score: -0.5962838571440556\n",
      "GMM Silhouette Score: 0.3823462760583989\n"
     ]
    }
   ],
   "source": [
    "from sklearn.metrics import silhouette_score\n",
    "\n",
    "# Calculate silhouette score for K-Means clustering\n",
    "kmeans_silhouette = silhouette_score(X, customer_data['kmeans_cluster'])\n",
    "print(\"K-Means Silhouette Score:\", kmeans_silhouette)\n",
    "\n",
    "# Calculate silhouette score for DBSCAN clustering\n",
    "dbscan_silhouette = silhouette_score(X, customer_data['dbscan_cluster'])\n",
    "print(\"DBSCAN Silhouette Score:\", dbscan_silhouette)\n",
    "\n",
    "# Calculate silhouette score for GMM clustering\n",
    "gmm_silhouette = silhouette_score(X, customer_data['gmm_cluster'])\n",
    "print(\"GMM Silhouette Score:\", gmm_silhouette)\n"
   ]
  },
  {
   "cell_type": "markdown",
   "id": "70d1906f",
   "metadata": {},
   "source": [
    "Based on the silhouette scores, a higher score indicates better clustering performance. Therefore, in this case, the K-Means model has the highest silhouette score of 0.863, followed by the GMM model with a score of 0.382. The DBSCAN model has a negative silhouette score (-0.596), which suggests that the clusters are overlapping or poorly separated.\n",
    "\n",
    "Therefore, based on the silhouette scores, the K-Means model is the best among the three for the given dataset. It indicates that the K-Means model produces clusters that are well-separated and internally cohesive, resulting in better-defined groupings of the data points."
   ]
  }
 ],
 "metadata": {
  "kernelspec": {
   "display_name": "Python 3 (ipykernel)",
   "language": "python",
   "name": "python3"
  },
  "language_info": {
   "codemirror_mode": {
    "name": "ipython",
    "version": 3
   },
   "file_extension": ".py",
   "mimetype": "text/x-python",
   "name": "python",
   "nbconvert_exporter": "python",
   "pygments_lexer": "ipython3",
   "version": "3.9.12"
  }
 },
 "nbformat": 4,
 "nbformat_minor": 5
}
